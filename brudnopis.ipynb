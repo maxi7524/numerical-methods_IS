{
 "cells": [
  {
   "cell_type": "code",
   "execution_count": 281,
   "metadata": {},
   "outputs": [],
   "source": [
    "import numpy as np\n",
    "import pandas as pd\n",
    "import scipy.stats as stats\n",
    "from scipy.integrate import quad\n",
    "from scipy.optimize import minimize_scalar \n",
    "import matplotlib.pyplot as plt"
   ]
  },
  {
   "cell_type": "markdown",
   "metadata": {},
   "source": [
    "### Monte carlo"
   ]
  },
  {
   "cell_type": "code",
   "execution_count": null,
   "metadata": {},
   "outputs": [],
   "source": [
    "def monte_carlo_estimate(probe, t):\n",
    "    p = sum((1 for x in probe if x >= t))/len(probe)\n",
    "    return p"
   ]
  },
  {
   "cell_type": "markdown",
   "metadata": {},
   "source": [
    "### Simulation gain \n",
    "to check "
   ]
  },
  {
   "cell_type": "markdown",
   "metadata": {},
   "source": [
    "for known distribution \n"
   ]
  },
  {
   "cell_type": "code",
   "execution_count": null,
   "metadata": {},
   "outputs": [],
   "source": [
    "def simulation_gain_known(g: callable, W: callable, G: float, pdf_STD: callable, pdf_IS: callable, left_lim_STD, right_lim_STD, left_lim_IS, right_lim_IS) -> (float, float):\n",
    "    '''Here G must be numer (exact evaluation from known distributions)'''\n",
    "    # calculating expected values\n",
    "    e_g2_STD, err_1 = quad(lambda x: g(x)**2 * pdf_STD(x), left_lim_STD, right_lim_STD)\n",
    "    e_g2_IS, err_2 = quad(lambda x: g(x)*2 * W(x)**2 * pdf_IS(x), left_lim_IS, right_lim_IS)\n",
    "    # calculating return values\n",
    "    rtn_val = (e_g2_STD - G**2) / (e_g2_IS - G**2)\n",
    "    rtn_err = max(err_1, err_2)\n",
    "    return rtn_val, rtn_err\n",
    "    \n",
    "def simulation_gain_tail_kd(p_t: float, t: float, W: callable, pdf_IS, left_lim, right_lim) -> float:\n",
    "    left_lim = max(t, left_lim)\n",
    "    # TODO problem with integrating \n",
    "    mean, rtn_err = quad(lambda x: W(x)**2 * pdf_IS(x), left_lim, right_lim)\n",
    "    rtn_val = (p_t * (1 - p_t)) / (mean - p_t**2)\n",
    "    return abs(rtn_val), rtn_err\n",
    "    # tutaj jest błąd to p_t też trzeba liczyć tylko wydaje mi się to całkami było by najlepiej zrobić (to jest wartośc oczekiwana że X osiągnie tę wartośc czyli po prostu całka na po gęstości)\n",
    "    # to wszystko trzeba w całkach zrobić (do góry też, i błąd z tych całek ściągnąć i zrobi√ widełki z dokładnością)\n"
   ]
  },
  {
   "cell_type": "markdown",
   "metadata": {},
   "source": [
    "### Functions for module "
   ]
  },
  {
   "cell_type": "markdown",
   "metadata": {},
   "source": [
    "derivation:\n",
    "\n",
    "$$\\hat{p}_t = \\frac{1}{K}\\sum_{i=1}^K \\chi_{X_i \\geq t}W(X_i), X_i \\sim f_*$$"
   ]
  },
  {
   "cell_type": "code",
   "execution_count": null,
   "metadata": {},
   "outputs": [],
   "source": [
    "def p_estim(t: float, sample: tuple, W: callable) -> float:\n",
    "    '''\n",
    "    We need provide sample from $f_*$ or rearange function W which is given\n",
    "\n",
    "    We estimate parameter $p$:\n",
    "    .. math::\n",
    "        \\hat{p}_t = \\frac{1}{K}\\sum_{i=1}^K \\chi_{X_i \\geq t}W(X_i), X_i \\sim f_*\n",
    "\n",
    "    '''\n",
    "    return sum((((x >= t and 1) or 0) * W(x) for x in sample))/len(sample)\n",
    "\n",
    "def var_estim(t: float, sample: tuple, W: callable) -> float:\n",
    "    return sum((((x >= t and 1) or 0) * W(x)**2 for x in sample))/len(sample)\n",
    "\n",
    "def opt_density(p_t, t, pdf):\n",
    "    return lambda x: ((x >= t and 1) or 1) * pdf(x) / p_t"
   ]
  },
  {
   "cell_type": "markdown",
   "metadata": {},
   "source": [
    "### IS methods"
   ]
  },
  {
   "cell_type": "markdown",
   "metadata": {},
   "source": [
    "#### scaling"
   ]
  },
  {
   "cell_type": "markdown",
   "metadata": {},
   "source": [
    "estimating probability "
   ]
  },
  {
   "cell_type": "code",
   "execution_count": 343,
   "metadata": {},
   "outputs": [],
   "source": [
    "def fact_W_scaling(a: float, f: callable):\n",
    "    '''creating W functions for IS scaling method'''\n",
    "    return lambda x ,a=a: a * f(x) / f(x/a)\n"
   ]
  },
  {
   "cell_type": "markdown",
   "metadata": {},
   "source": [
    "example from book to for checking functions (we can add this to test)"
   ]
  },
  {
   "cell_type": "code",
   "execution_count": null,
   "metadata": {},
   "outputs": [],
   "source": [
    "# getting values for p\n",
    "def p_true_gen(b, mu):\n",
    "    return lambda t: np.exp(-(t/mu)**b)# weibull with var_names from book\n",
    "\n",
    "# function for getting p_t\n",
    "def p_true_gen(b, mu):\n",
    "    return lambda t: np.exp(-(t/mu)**b)\n",
    "\n",
    "def t_from_p(p, b, mu):\n",
    "    return (- np.log(p))**(1/b) * mu\n",
    "\n",
    "def w_gen(a, b, mu):\n",
    "    return lambda x: a**b * np.exp(-(1-a**-b)*(x/mu)**b)\n",
    "\n",
    "# problem is to estimate parameter a ~ scaling factor \n",
    "\n",
    "def opt_a(t, mu, b):\n",
    "    a_e = 1/2 * (1 + (t/mu)**b + np.sqrt(1 + (t/mu)**(2*b)))\n",
    "    return a_e**(1/b)\n",
    "# tested \n"
   ]
  },
  {
   "cell_type": "markdown",
   "metadata": {},
   "source": [
    "here is good example because we p_t via IS"
   ]
  },
  {
   "cell_type": "code",
   "execution_count": null,
   "metadata": {},
   "outputs": [
    {
     "name": "stderr",
     "output_type": "stream",
     "text": [
      "<>:23: SyntaxWarning: invalid escape sequence '\\l'\n",
      "<>:24: SyntaxWarning: invalid escape sequence '\\G'\n",
      "<>:23: SyntaxWarning: invalid escape sequence '\\l'\n",
      "<>:24: SyntaxWarning: invalid escape sequence '\\G'\n",
      "/tmp/ipykernel_15766/3860333271.py:23: SyntaxWarning: invalid escape sequence '\\l'\n",
      "  plt.xlabel('$-\\log_{10}p_t$')\n",
      "/tmp/ipykernel_15766/3860333271.py:24: SyntaxWarning: invalid escape sequence '\\G'\n",
      "  plt.ylabel('wzrost efektywności $\\Gamma$')\n"
     ]
    },
    {
     "name": "stdout",
     "output_type": "stream",
     "text": [
      "1.4665669327511136e-08\n"
     ]
    },
    {
     "data": {
      "image/png": "[encoded data removed]",
      "text/plain": [
       "<Figure size 640x480 with 1 Axes>"
      ]
     },
     "metadata": {},
     "output_type": "display_data"
    }
   ],
   "source": [
    "# starting parameters\n",
    "b = 2\n",
    "mu = 1\n",
    "dist = stats.weibull_min(c=b, scale=mu)\n",
    "\n",
    "\n",
    "# by vectors\n",
    "density = 100\n",
    "x = np.linspace(0, 10, density)\n",
    "p_t_list = np.array([10**(-i/(density/10)) for i in range(density)])\n",
    "t_list = [t_from_p(p_t, b, mu) for p_t in p_t_list]\n",
    "a_list = [opt_a(t, mu, b) for t in t_list]\n",
    "W_list = [w_gen(a, b, mu) for a in a_list]\n",
    "pdf_IS_list = [lambda x, a=a: dist.pdf(x/a) / a for a in a_list]\n",
    "val_err = [simulation_gain_tail_kd(p_t, t, W, pdf_IS, 0, np.inf) for p_t, t, W, pdf_IS in zip(p_t_list, t_list, W_list, pdf_IS_list)]\n",
    "y = [val for val, err in val_err]\n",
    "error = max((err for val, err in val_err))\n",
    "print(error)\n",
    "plt.plot(x, y)\n",
    "plt.yscale('log')\n",
    "plt.xlim(0, 10.3)\n",
    "plt.title('Rozkład Weibull')\n",
    "plt.xlabel('$-\\log_{10}p_t$')\n",
    "plt.ylabel('wzrost efektywności $\\Gamma$')\n",
    "plt.grid()\n",
    "plt.show()\n",
    "# sprawdzone (znak ujemny wychodzi bo różnica powinna być w module)\n",
    "\n",
    "# robimy tak: zgarniamy różne wartości p_t i na te wartości wrzucamy jak się zmienia sumulation gain to nam mówi ile więcej próbek trzeba by dac w mc by osiągnac takzą samą precyzje jak IS \n",
    "\n",
    "# robimy coś takiego: wybieramy coraz mniej prawdopodobne zdarzenia i spradzamy jak dla optymalnego a zwiększa się ilość próbek które potrzebujemy dobrać w metodzie monte carlo aby otrzymać podobne wyniki"
   ]
  },
  {
   "cell_type": "markdown",
   "metadata": {},
   "source": [
    "rozkład normalny "
   ]
  },
  {
   "cell_type": "code",
   "execution_count": 423,
   "metadata": {},
   "outputs": [
    {
     "name": "stderr",
     "output_type": "stream",
     "text": [
      "/tmp/ipykernel_15766/190451690.py:3: RuntimeWarning: divide by zero encountered in scalar divide\n",
      "  return lambda x ,a=a: a * f(x) / f(x/a)\n",
      "/tmp/ipykernel_15766/1927987655.py:13: RuntimeWarning: invalid value encountered in scalar multiply\n",
      "  mean, rtn_err = quad(lambda x: W(x)**2 * pdf_IS(x), left_lim, right_lim)\n",
      "/tmp/ipykernel_15766/1927987655.py:13: IntegrationWarning: The occurrence of roundoff error is detected, which prevents \n",
      "  the requested tolerance from being achieved.  The error may be \n",
      "  underestimated.\n",
      "  mean, rtn_err = quad(lambda x: W(x)**2 * pdf_IS(x), left_lim, right_lim)\n",
      "/tmp/ipykernel_15766/1927987655.py:13: RuntimeWarning: overflow encountered in scalar power\n",
      "  mean, rtn_err = quad(lambda x: W(x)**2 * pdf_IS(x), left_lim, right_lim)\n"
     ]
    },
    {
     "name": "stdout",
     "output_type": "stream",
     "text": [
      "1.328265402247495e-08\n"
     ]
    }
   ],
   "source": [
    "dist = stats.norm(loc=0, scale=1)\n",
    "\n",
    "\n",
    "# by vectors\n",
    "density = 100\n",
    "# creating args\n",
    "x = list(np.linspace(0.01, 10, density))\n",
    "# probabilities to check \n",
    "p_t_list = [10**(-i) for i in x]\n",
    "# finding t(quantile of 1-p_t value in normal distribution) values (to minimize a value)\n",
    "t_list = [dist.ppf(1-p_t) for p_t in p_t_list]\n",
    "# creating W values which depends only on a (derivation I(a) = E_*[(X >= t) * W**2(X)])\n",
    "W_list_a = [lambda a, x=x: a * dist.pdf(x)**2 / dist.pdf(x/a) for x in t_list]\n",
    "# finding optimal values for a IMPO\n",
    "a_list = [minimize_scalar(w, bounds=[max(t, 0), 10**5]).x for t, w in zip(t_list, W_list_a)]\n",
    "# finding functions W\n",
    "W_list = [fact_W_scaling(a, lambda x: dist.pdf(x)) for a in a_list]\n",
    "# finding densities of IS f_*(x) = 1/a f(x/a)\n",
    "pdf_IS_list = [lambda x, a=a: dist.pdf(x/a) / a for a in a_list]\n",
    "# finding \\Gamma function values \n",
    "val_err = [simulation_gain_tail_kd(p_t, t, W, pdf_IS, -np.inf, t+30) for p_t, t, W, pdf_IS in zip(p_t_list, t_list, W_list, pdf_IS_list)]\n",
    "y = [val for val, err in val_err]\n",
    "\n",
    "error = max((err for val, err in val_err))\n",
    "print(error)\n",
    "\n"
   ]
  },
  {
   "cell_type": "code",
   "execution_count": 424,
   "metadata": {},
   "outputs": [
    {
     "name": "stderr",
     "output_type": "stream",
     "text": [
      "<>:6: SyntaxWarning: invalid escape sequence '\\l'\n",
      "<>:7: SyntaxWarning: invalid escape sequence '\\G'\n",
      "<>:6: SyntaxWarning: invalid escape sequence '\\l'\n",
      "<>:7: SyntaxWarning: invalid escape sequence '\\G'\n",
      "/tmp/ipykernel_15766/1885056848.py:6: SyntaxWarning: invalid escape sequence '\\l'\n",
      "  plt.xlabel('$-\\log_{10}p_t$')\n",
      "/tmp/ipykernel_15766/1885056848.py:7: SyntaxWarning: invalid escape sequence '\\G'\n",
      "  plt.ylabel('Wzrost efektywności $\\Gamma$')\n"
     ]
    },
    {
     "data": {
      "image/png": "[encoded data removed]",
      "text/plain": [
       "<Figure size 640x480 with 1 Axes>"
      ]
     },
     "metadata": {},
     "output_type": "display_data"
    }
   ],
   "source": [
    "plt.plot(x, y)\n",
    "plt.yscale('log')\n",
    "# plt.ylim([0, 10**11])\n",
    "# plt.xlim(0, 10.3)\n",
    "plt.title('Rozkład normalny scalling')\n",
    "plt.xlabel('$-\\log_{10}p_t$')\n",
    "plt.ylabel('Wzrost efektywności $\\Gamma$')\n",
    "plt.grid()\n",
    "plt.show()"
   ]
  },
  {
   "cell_type": "markdown",
   "metadata": {},
   "source": [
    "#### translation"
   ]
  },
  {
   "cell_type": "markdown",
   "metadata": {},
   "source": [
    "basic functions to IS"
   ]
  },
  {
   "cell_type": "code",
   "execution_count": 349,
   "metadata": {},
   "outputs": [],
   "source": [
    "# density function \n",
    "def fact_W_translation(c: float, f: callable) -> callable:\n",
    "    '''Return W function of translation method of importance sampling'''\n",
    "    return lambda x, c=c: f(x)/f(x-c)\n"
   ]
  },
  {
   "cell_type": "code",
   "execution_count": 448,
   "metadata": {},
   "outputs": [
    {
     "name": "stdout",
     "output_type": "stream",
     "text": [
      "1.3103259350828498e-08\n"
     ]
    }
   ],
   "source": [
    "dist = stats.norm(loc=0, scale=1)\n",
    "\n",
    "\n",
    "# by vectors\n",
    "density = 100\n",
    "# creating args\n",
    "x = list(np.linspace(0.01, 10, density))\n",
    "# probabilities to check \n",
    "p_t_list = [10**(-i) for i in x]\n",
    "# finding t(quantile of 1-p_t value in normal distribution) values (to minimize a value)\n",
    "t_list = [dist.ppf(1-p_t) for p_t in p_t_list]\n",
    "# creating W values which depends only on a (derivation I(a) = E_*[(X >= t) * W**2(X)])\n",
    "W_list_c = [lambda c, x=x: dist.pdf(x)**2/dist.pdf(x - c) for x in t_list]\n",
    "# finding optimal values for a IMPO\n",
    "c_list = [minimize_scalar(w, bounds=[0, max(t*4, 0.5)]).x for t, w in zip(t_list, W_list_c)]\n",
    "# finding functions W\n",
    "W_list = [fact_W_translation(c, lambda x: dist.pdf(x)) for c in c_list]\n",
    "# finding densities of IS f_*(x) = 1/a f(x/a)\n",
    "pdf_IS_list = [lambda x, c=c: dist.pdf(x - c) for c in c_list]\n",
    "# finding \\Gamma function values \n",
    "val_err = [simulation_gain_tail_kd(p_t, t, W, pdf_IS, -np.inf, c + 30) for p_t, t, W, pdf_IS, c in zip(p_t_list, t_list, W_list, pdf_IS_list, c_list)]\n",
    "y = [val for val, err in val_err]\n",
    "\n",
    "error = max((err for val, err in val_err))\n",
    "print(error)\n",
    "\n"
   ]
  },
  {
   "cell_type": "code",
   "execution_count": 449,
   "metadata": {},
   "outputs": [
    {
     "name": "stdout",
     "output_type": "stream",
     "text": [
      "[(np.float64(-1.9997658101835842), np.float64(4.469534883430863e-06)), (np.float64(-0.7541616862020523), np.float64(4.469534883430863e-06)), (np.float64(-0.28980950362884617), np.float64(4.469534883430863e-06)), (np.float64(0.03331234536290301), np.float64(0.03331234664138901)), (np.float64(0.29027938245396884), np.float64(0.2902794797423591)), (np.float64(0.5077566256064416), np.float64(0.5077572142741376)), (np.float64(0.6985803420847285), np.float64(0.6985815739122718)), (np.float64(0.8700072572465791), np.float64(0.8700075380159137)), (np.float64(1.0265780448575978), np.float64(1.0265790866020121)), (np.float64(1.171341198906297), np.float64(1.1713404793683861)), (np.float64(1.3064524319414745), np.float64(1.3064524292430755)), (np.float64(1.4334981928007275), np.float64(1.4334981830292801)), (np.float64(1.553683551874124), np.float64(1.5536835247023433)), (np.float64(1.667947760363534), np.float64(1.667947698207708)), (np.float64(1.777038689256036), np.float64(1.7770385667144961)), (np.float64(1.8815626429695138), np.float64(1.881562427750798)), (np.float64(1.9820187772856697), np.float64(1.9820184323346455)), (np.float64(2.0788235363423935), np.float64(2.0788230226317417)), (np.float64(2.1723284152434603), np.float64(2.1723276947588293)), (np.float64(2.262833138054618), np.float64(2.2628321766950066)), (np.float64(2.3505956119224374), np.float64(2.3505943822281354)), (np.float64(2.435839566816761), np.float64(2.435838050556655)), (np.float64(2.518760503007963), np.float64(2.518762064389681)), (np.float64(2.599530380660236), np.float64(2.599531657960245)), (np.float64(2.678301360489647), np.float64(2.6783023782374804)), (np.float64(2.7552088189091815), np.float64(2.755209620971359)), (np.float64(2.83037380168833), np.float64(2.8303744537992204)), (np.float64(2.9039050382140497), np.float64(2.9039056304422175)), (np.float64(2.975900608372527), np.float64(2.9759012574689137)), (np.float64(3.0464493322129367), np.float64(3.0464501837918654)), (np.float64(3.1156319364598053), np.float64(3.1156331669702504)), (np.float64(3.183522039949895), np.float64(3.1835204778485355)), (np.float64(3.2501869910368546), np.float64(3.2501862589143573)), (np.float64(3.3156885831355933), np.float64(3.3156889534794107)), (np.float64(3.380083669298068), np.float64(3.380085357484071)), (np.float64(3.443424692623131), np.float64(3.443424511967536)), (np.float64(3.505760146106724), np.float64(3.5057601460957235)), (np.float64(3.567134973021964), np.float64(3.5671349729953374)), (np.float64(3.627590916923052), np.float64(3.6275909168709113)), (np.float64(3.6871668287750676), np.float64(3.6871668286757875)), (np.float64(3.7458989374291978), np.float64(3.745898937257441)), (np.float64(3.803821088626324), np.float64(3.803821088347125)), (np.float64(3.860964956875324), np.float64(3.8609649564446347)), (np.float64(3.91736023385601), np.float64(3.9173602332149335)), (np.float64(3.973034796439925), np.float64(3.9730347955170746)), (np.float64(4.0280148569426), np.float64(4.028014855649074)), (np.float64(4.082325097848079), np.float64(4.082325096077873)), (np.float64(4.135988792909533), np.float64(4.135988790536485)), (np.float64(4.189027916274894), np.float64(4.189027913150478)), (np.float64(4.241463241023884), np.float64(4.241463236976339)), (np.float64(4.2933144283797775), np.float64(4.293314423210814)), (np.float64(4.344600108611252), np.float64(4.344600102094874)), (np.float64(4.395337954557326), np.float64(4.395337946438141)), (np.float64(4.445544748599748), np.float64(4.445544738591163)), (np.float64(4.495236443735747), np.float64(4.495236431518051)), (np.float64(4.544428219445129), np.float64(4.5444282046641105)), (np.float64(4.593134532756611), np.float64(4.593134515022543)), (np.float64(4.641369165178205), np.float64(4.641369144064259)), (np.float64(4.689145265713727), np.float64(4.689145240754438)), (np.float64(4.736475390510794), np.float64(4.736475361201522)), (np.float64(4.7833715393244685), np.float64(4.7833715051206385)), (np.float64(4.829845189153342), np.float64(4.829845149468773)), (np.float64(4.87590732547973), np.float64(4.87590727968683)), (np.float64(4.921568470908695), np.float64(4.921568418337597)), (np.float64(4.966838711841904), np.float64(4.966838651780074)), (np.float64(5.011727723359335), np.float64(5.011727655051338)), (np.float64(5.056244791878692), np.float64(5.056244714526075)), (np.float64(5.100398836868629), np.float64(5.100398749629671)), (np.float64(5.144198430455874), np.float64(5.144198332445679)), (np.float64(5.187651815788501), np.float64(5.18765170607926)), (np.float64(5.230766925301799), np.float64(5.2307668029228775)), (np.float64(5.273551394813899), np.float64(5.273551258752182)), (np.float64(5.316012581408407), np.float64(5.316012430608801)), (np.float64(5.358157574445129), np.float64(5.3581574078108085)), (np.float64(5.399993211429391), np.float64(5.399993027822326)), (np.float64(5.441526088448178), np.float64(5.441525886689853)), (np.float64(5.482762574421151), np.float64(5.482762353292978)), (np.float64(5.523708816336058), np.float64(5.5237085745802545)), (np.float64(5.5643707583289315), np.float64(5.564370494648934)), (np.float64(5.604754142578087), np.float64(5.6047538556392915)), (np.float64(5.644864525404935), np.float64(5.644864213835558)), (np.float64(5.68470727904111), np.float64(5.684706941432896)), (np.float64(5.724287603728728), np.float64(5.724287238637472)), (np.float64(5.76361053594513), np.float64(5.763610141891784)), (np.float64(5.802680956828728), np.float64(5.802680532299807)), (np.float64(5.841503598481352), np.float64(5.841503141929757)), (np.float64(5.880083036634437), np.float64(5.880082546480367)), (np.float64(5.918423714020071), np.float64(5.91842318865151)), (np.float64(5.956529957389378), np.float64(5.956529395162838)), (np.float64(5.994405939550699), np.float64(5.994405338792121)), (np.float64(6.0320557070424), np.float64(6.0320550660475005)), (np.float64(6.06948326304298), np.float64(6.069482580078022)), (np.float64(6.106692383330905), np.float64(6.106691656633432)), (np.float64(6.143686802085184), np.float64(6.143686029864481)), (np.float64(6.1804701868499015), np.float64(6.1804693672875155)), (np.float64(6.217045956265213), np.float64(6.217045087515788)), (np.float64(6.253417655977139), np.float64(6.253416736168474)), (np.float64(6.289588553869693), np.float64(6.289587581103671)), (np.float64(6.32556197265029), np.float64(6.325560945002939)), (np.float64(6.361340889697422), np.float64(6.361339805219922))]\n"
     ]
    }
   ],
   "source": [
    "print(list(zip(t_list, c_list)))"
   ]
  },
  {
   "cell_type": "code",
   "execution_count": 446,
   "metadata": {},
   "outputs": [
    {
     "name": "stderr",
     "output_type": "stream",
     "text": [
      "<>:6: SyntaxWarning: invalid escape sequence '\\l'\n",
      "<>:7: SyntaxWarning: invalid escape sequence '\\G'\n",
      "<>:6: SyntaxWarning: invalid escape sequence '\\l'\n",
      "<>:7: SyntaxWarning: invalid escape sequence '\\G'\n",
      "/tmp/ipykernel_15766/3163167687.py:6: SyntaxWarning: invalid escape sequence '\\l'\n",
      "  plt.xlabel('$-\\log_{10}p_t$')\n",
      "/tmp/ipykernel_15766/3163167687.py:7: SyntaxWarning: invalid escape sequence '\\G'\n",
      "  plt.ylabel('Wzrost efektywności $\\Gamma$')\n"
     ]
    },
    {
     "data": {
      "image/png": "[encoded data removed]",
      "text/plain": [
       "<Figure size 640x480 with 1 Axes>"
      ]
     },
     "metadata": {},
     "output_type": "display_data"
    }
   ],
   "source": [
    "plt.plot(x, y)\n",
    "plt.yscale('log')\n",
    "# plt.ylim([0, 10**11])\n",
    "# plt.xlim(0, 10.3)\n",
    "plt.title('Rozkład normalny - translation')\n",
    "plt.xlabel('$-\\log_{10}p_t$')\n",
    "plt.ylabel('Wzrost efektywności $\\Gamma$')\n",
    "plt.grid()\n",
    "plt.show()"
   ]
  },
  {
   "cell_type": "markdown",
   "metadata": {},
   "source": [
    "Rozkład Weibull"
   ]
  },
  {
   "cell_type": "code",
   "execution_count": 464,
   "metadata": {},
   "outputs": [
    {
     "name": "stderr",
     "output_type": "stream",
     "text": [
      "/tmp/ipykernel_15766/281166547.py:15: RuntimeWarning: divide by zero encountered in scalar divide\n",
      "  W_list_c = [lambda c, x=x: dist.pdf(x)**2/dist.pdf(x - c) for x in t_list]\n",
      "/home/max/.pyenv/versions/3.12.7/lib/python3.12/site-packages/scipy/optimize/_optimize.py:2288: RuntimeWarning: invalid value encountered in scalar subtract\n",
      "  r = (xf - nfc) * (fx - ffulc)\n",
      "/home/max/.pyenv/versions/3.12.7/lib/python3.12/site-packages/scipy/optimize/_optimize.py:2289: RuntimeWarning: invalid value encountered in scalar subtract\n",
      "  q = (xf - fulc) * (fx - fnfc)\n",
      "/tmp/ipykernel_15766/1787585910.py:4: RuntimeWarning: divide by zero encountered in scalar divide\n",
      "  return lambda x, c=c: f(x)/f(x-c)\n",
      "/tmp/ipykernel_15766/1927987655.py:13: RuntimeWarning: invalid value encountered in scalar multiply\n",
      "  mean, rtn_err = quad(lambda x: W(x)**2 * pdf_IS(x), left_lim, right_lim)\n",
      "/tmp/ipykernel_15766/1927987655.py:13: IntegrationWarning: The occurrence of roundoff error is detected, which prevents \n",
      "  the requested tolerance from being achieved.  The error may be \n",
      "  underestimated.\n",
      "  mean, rtn_err = quad(lambda x: W(x)**2 * pdf_IS(x), left_lim, right_lim)\n"
     ]
    },
    {
     "name": "stdout",
     "output_type": "stream",
     "text": [
      "nan\n"
     ]
    }
   ],
   "source": [
    "b = 2\n",
    "mu = 1\n",
    "dist = stats.weibull_min(c=b, scale=mu)\n",
    "\n",
    "\n",
    "# by vectors\n",
    "density = 100\n",
    "# creating args\n",
    "x = list(np.linspace(0.01, 10, density))\n",
    "# probabilities to check \n",
    "p_t_list = [10**(-i) for i in x]\n",
    "# finding t(quantile of 1-p_t value in normal distribution) values (to minimize a value)\n",
    "t_list = [dist.ppf(1-p_t) for p_t in p_t_list]\n",
    "# creating W values which depends only on a (derivation I(a) = E_*[(X >= t) * W**2(X)])\n",
    "W_list_c = [lambda c, x=x: dist.pdf(x)**2/dist.pdf(x - c) for x in t_list]\n",
    "# finding optimal values for a IMPO\n",
    "c_list = [minimize_scalar(w, bounds=[0, max(t*4, 0.5)]).x for t, w in zip(t_list, W_list_c)]\n",
    "# finding functions W\n",
    "W_list = [fact_W_translation(c, lambda x: dist.pdf(x)) for c in c_list]\n",
    "# finding densities of IS f_*(x) = 1/a f(x/a)\n",
    "pdf_IS_list = [lambda x, c=c: dist.pdf(x - c) for c in c_list]\n",
    "# finding \\Gamma function values \n",
    "val_err = [simulation_gain_tail_kd(p_t, t, W, pdf_IS, -np.inf, t + 0.5) for p_t, t, W, pdf_IS, c in zip(p_t_list, t_list, W_list, pdf_IS_list, c_list)]\n",
    "y = [val for val, err in val_err]\n",
    "\n",
    "error = max((err for val, err in val_err))\n",
    "print(error)\n"
   ]
  },
  {
   "cell_type": "code",
   "execution_count": 467,
   "metadata": {},
   "outputs": [
    {
     "data": {
      "text/plain": [
       "[np.float64(0.15174271293851468),\n",
       " np.float64(0.5053490075233097),\n",
       " np.float64(0.6983762509418886),\n",
       " np.float64(0.8485759579168513),\n",
       " np.float64(0.9759267005412626),\n",
       " np.float64(1.0884781547207132),\n",
       " np.float64(1.1904354084867699),\n",
       " np.float64(1.2843240363140123),\n",
       " np.float64(1.371801734482345),\n",
       " np.float64(1.4540260545133377),\n",
       " np.float64(1.5318431824695626),\n",
       " np.float64(1.6058939268062913),\n",
       " np.float64(1.6766773907428298),\n",
       " np.float64(1.7445913106235045),\n",
       " np.float64(1.8099587314571268),\n",
       " np.float64(1.873046282944644),\n",
       " np.float64(1.934077078745208),\n",
       " np.float64(1.9932400545349411),\n",
       " np.float64(2.050696877521713),\n",
       " np.float64(2.1065871574544834),\n",
       " np.float64(2.1610324431685446),\n",
       " np.float64(2.214139333669375),\n",
       " np.float64(2.26600193234179),\n",
       " np.float64(2.316703806241006),\n",
       " np.float64(2.3663195672449744),\n",
       " np.float64(2.414916160615372),\n",
       " np.float64(2.4625539245417825),\n",
       " np.float64(2.509287468535839),\n",
       " np.float64(2.5551664071496085),\n",
       " np.float64(2.6002359771183667),\n",
       " np.float64(2.644537559796709),\n",
       " np.float64(2.6881091260680723),\n",
       " np.float64(2.7309856173413367),\n",
       " np.float64(2.7731992735106714),\n",
       " np.float64(2.8147799166320464),\n",
       " np.float64(2.8557551974127473),\n",
       " np.float64(2.8961508103040075),\n",
       " np.float64(2.9359906819504102),\n",
       " np.float64(2.975297136921724),\n",
       " np.float64(3.0140910439880484),\n",
       " np.float64(3.052391945659027),\n",
       " np.float64(3.0902181732685103),\n",
       " np.float64(3.1275869495305937),\n",
       " np.float64(3.164514480192411),\n",
       " np.float64(3.2010160361707807),\n",
       " np.float64(3.237106027348882),\n",
       " np.float64(3.272798069049622),\n",
       " np.float64(3.30810504205144),\n",
       " np.float64(3.3430391469031373),\n",
       " np.float64(3.3776119531703035),\n",
       " np.float64(3.4118344442056308),\n",
       " np.float64(3.4457170579063203),\n",
       " np.float64(3.4792697238962185),\n",
       " np.float64(3.512501897523198),\n",
       " np.float64(3.5454225909696873),\n",
       " np.float64(3.5780404018192242),\n",
       " np.float64(3.610363539245553),\n",
       " np.float64(3.6423998481760496),\n",
       " np.float64(3.6741568314989217),\n",
       " np.float64(3.7056416706076196),\n",
       " np.float64(3.7368612443445093),\n",
       " np.float64(3.767822146527548),\n",
       " np.float64(3.798530702300281),\n",
       " np.float64(3.8289929831264558),\n",
       " np.float64(3.859214820815658),\n",
       " np.float64(3.8892018206626506),\n",
       " np.float64(3.918959373383481),\n",
       " np.float64(3.948492666674182),\n",
       " np.float64(3.9778066955936744),\n",
       " np.float64(4.006906272325334),\n",
       " np.float64(4.035796036066782),\n",
       " np.float64(4.064480460302373),\n",
       " np.float64(4.092963862774145),\n",
       " np.float64(4.121250410993836),\n",
       " np.float64(4.149344131147776),\n",
       " np.float64(4.177248913480959),\n",
       " np.float64(4.2049685203568865),\n",
       " np.float64(4.232506588363463),\n",
       " np.float64(4.259866639822952),\n",
       " np.float64(4.287052082163185),\n",
       " np.float64(4.314066217598977),\n",
       " np.float64(4.340912243242956),\n",
       " np.float64(4.367593258241908),\n",
       " np.float64(4.394112268371832),\n",
       " np.float64(4.420472190830429),\n",
       " np.float64(4.4466758576543475),\n",
       " np.float64(4.472726009978301),\n",
       " np.float64(4.498625313065913),\n",
       " np.float64(4.524376367120198),\n",
       " np.float64(4.549981680977779),\n",
       " np.float64(4.575443690171219),\n",
       " np.float64(4.600764812440298),\n",
       " np.float64(4.625947322691913),\n",
       " np.float64(4.65099347815125),\n",
       " np.float64(4.675905500990289),\n",
       " np.float64(4.70068545439599),\n",
       " np.float64(4.725335496763684),\n",
       " np.float64(4.749857607074185),\n",
       " np.float64(4.774253809876355),\n",
       " np.float64(4.798525903566645)]"
      ]
     },
     "execution_count": 467,
     "metadata": {},
     "output_type": "execute_result"
    }
   ],
   "source": [
    "t_list"
   ]
  },
  {
   "cell_type": "code",
   "execution_count": 454,
   "metadata": {},
   "outputs": [
    {
     "name": "stderr",
     "output_type": "stream",
     "text": [
      "<>:6: SyntaxWarning: invalid escape sequence '\\l'\n",
      "<>:7: SyntaxWarning: invalid escape sequence '\\G'\n",
      "<>:6: SyntaxWarning: invalid escape sequence '\\l'\n",
      "<>:7: SyntaxWarning: invalid escape sequence '\\G'\n",
      "/tmp/ipykernel_15766/1862676929.py:6: SyntaxWarning: invalid escape sequence '\\l'\n",
      "  plt.xlabel('$-\\log_{10}p_t$')\n",
      "/tmp/ipykernel_15766/1862676929.py:7: SyntaxWarning: invalid escape sequence '\\G'\n",
      "  plt.ylabel('Wzrost efektywności $\\Gamma$')\n"
     ]
    },
    {
     "data": {
      "image/png": "[encoded data removed]",
      "text/plain": [
       "<Figure size 640x480 with 1 Axes>"
      ]
     },
     "metadata": {},
     "output_type": "display_data"
    }
   ],
   "source": [
    "plt.plot(x, y)\n",
    "plt.yscale('log')\n",
    "# plt.ylim([0, 10**11])\n",
    "# plt.xlim(0, 10.3)\n",
    "plt.title('Rozkład Weibull - translation')\n",
    "plt.xlabel('$-\\log_{10}p_t$')\n",
    "plt.ylabel('Wzrost efektywności $\\Gamma$')\n",
    "plt.grid()\n",
    "plt.show()"
   ]
  },
  {
   "cell_type": "markdown",
   "metadata": {},
   "source": [
    "example of calculating, they show it for normal distribution, (for every distribution we obtain something different how to generlize that problem)"
   ]
  },
  {
   "cell_type": "markdown",
   "metadata": {},
   "source": [
    "combine scaling and translation "
   ]
  },
  {
   "cell_type": "code",
   "execution_count": null,
   "metadata": {},
   "outputs": [],
   "source": []
  }
 ],
 "metadata": {
  "kernelspec": {
   "display_name": "Python 3",
   "language": "python",
   "name": "python3"
  },
  "language_info": {
   "codemirror_mode": {
    "name": "ipython",
    "version": 3
   },
   "file_extension": ".py",
   "mimetype": "text/x-python",
   "name": "python",
   "nbconvert_exporter": "python",
   "pygments_lexer": "ipython3",
   "version": "3.12.7"
  }
 },
 "nbformat": 4,
 "nbformat_minor": 2
}
