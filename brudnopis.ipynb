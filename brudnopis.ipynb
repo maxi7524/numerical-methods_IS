{
 "cells": [
  {
   "cell_type": "code",
   "execution_count": 5,
   "metadata": {},
   "outputs": [],
   "source": [
    "import numpy as np\n",
    "import pandas as pd\n",
    "import scipy.stats as stats\n",
    "from scipy.integrate import quad "
   ]
  },
  {
   "cell_type": "markdown",
   "metadata": {},
   "source": [
    "### Monte carlo"
   ]
  },
  {
   "cell_type": "code",
   "execution_count": 6,
   "metadata": {},
   "outputs": [],
   "source": [
    "def monte_carlo_estimate(probe, t):\n",
    "    p = sum((1 for x in probe if x >= t))/len(probe)\n",
    "    return p"
   ]
  },
  {
   "cell_type": "markdown",
   "metadata": {},
   "source": [
    "IS "
   ]
  },
  {
   "cell_type": "markdown",
   "metadata": {},
   "source": [
    "### Simulation gain \n",
    "to check "
   ]
  },
  {
   "cell_type": "markdown",
   "metadata": {},
   "source": [
    "for known distribution \n"
   ]
  },
  {
   "cell_type": "code",
   "execution_count": null,
   "metadata": {},
   "outputs": [],
   "source": [
    "def simulation_gain_known(g: function, probe_MC: tuple, probe_IS: tuple, W: function, G: float) -> float:\n",
    "    '''Here G must be numer (exact evaluation from known distributions)'''\n",
    "    # calculating expected values\n",
    "    mean_MS = np.mean([g(x)**2 for x in probe_MC])\n",
    "    mean_IS = np.mean([g(x)**2 * W(x)**2 for x in probe_IS]) \n",
    "    # putting into formula\n",
    "    return (mean_MS - G**2) / (mean_IS - G**2)\n"
   ]
  },
  {
   "cell_type": "code",
   "execution_count": null,
   "metadata": {},
   "outputs": [],
   "source": [
    "def simulation_gain_tail_kd(pdf: function, W:function, probe_IS: tuple, t:float) -> float:\n",
    "    mean_IS = np.mean([(x >= t and 1) * W(x)**2 for x in probe_IS])\n",
    "    return (pdf(t) * (1 - pdf(t))) / (mean_IS - p(t)**2)\n",
    "    # tutaj jest błąd to p_t też trzeba liczyć tylko wydaje mi się to całkami było by najlepiej zrobić (to jest wartośc oczekiwana że X osiągnie tę wartośc czyli po prostu całka na po gęstości)\n",
    "    # to wszystko trzeba w całkach zrobić (do góry też, i błąd z tych całek ściągnąć i zrobi√ widełki z dokładnością)"
   ]
  },
  {
   "cell_type": "markdown",
   "metadata": {},
   "source": [
    "for unknown distributions "
   ]
  },
  {
   "cell_type": "code",
   "execution_count": null,
   "metadata": {},
   "outputs": [],
   "source": [
    "def simulation_gain_unknown(g: function, W: function, probe_IS):\n",
    "    pass"
   ]
  },
  {
   "cell_type": "markdown",
   "metadata": {},
   "source": [
    "### IS methods"
   ]
  },
  {
   "cell_type": "code",
   "execution_count": 6,
   "metadata": {},
   "outputs": [
    {
     "data": {
      "text/plain": [
       "(0.9999999999999997, 1.0178191389088507e-08)"
      ]
     },
     "execution_count": 6,
     "metadata": {},
     "output_type": "execute_result"
    }
   ],
   "source": []
  },
  {
   "cell_type": "code",
   "execution_count": 10,
   "metadata": {},
   "outputs": [
    {
     "data": {
      "text/plain": [
       "1"
      ]
     },
     "execution_count": 10,
     "metadata": {},
     "output_type": "execute_result"
    }
   ],
   "source": [
    "3 < 4 and 1"
   ]
  },
  {
   "cell_type": "code",
   "execution_count": null,
   "metadata": {},
   "outputs": [],
   "source": []
  }
 ],
 "metadata": {
  "kernelspec": {
   "display_name": "3.12.7",
   "language": "python",
   "name": "python3"
  },
  "language_info": {
   "codemirror_mode": {
    "name": "ipython",
    "version": 3
   },
   "file_extension": ".py",
   "mimetype": "text/x-python",
   "name": "python",
   "nbconvert_exporter": "python",
   "pygments_lexer": "ipython3",
   "version": "3.12.7"
  }
 },
 "nbformat": 4,
 "nbformat_minor": 2
}
